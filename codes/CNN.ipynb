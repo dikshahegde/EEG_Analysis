{
 "cells": [
  {
   "cell_type": "code",
   "execution_count": 1,
   "id": "8a35d0c6",
   "metadata": {},
   "outputs": [],
   "source": [
    "import pandas as pd\n",
    "import numpy as np"
   ]
  },
  {
   "cell_type": "code",
   "execution_count": 2,
   "id": "1f25699b",
   "metadata": {},
   "outputs": [],
   "source": [
    "data_1=pd.read_excel(\"AF4_NEW.xlsx\")"
   ]
  },
  {
   "cell_type": "code",
   "execution_count": 3,
   "id": "ca48078a",
   "metadata": {},
   "outputs": [],
   "source": [
    "data_2=pd.read_excel(\"T7_NEW.xlsx\")"
   ]
  },
  {
   "cell_type": "code",
   "execution_count": 4,
   "id": "4fdab045",
   "metadata": {},
   "outputs": [],
   "source": [
    "data_3=pd.read_excel(\"T8_NEW.xlsx\")"
   ]
  },
  {
   "cell_type": "code",
   "execution_count": 5,
   "id": "c2667021",
   "metadata": {},
   "outputs": [],
   "source": [
    "data=pd.read_excel(\"AF3_NEW.xlsx\")"
   ]
  },
  {
   "cell_type": "code",
   "execution_count": 6,
   "id": "c656826d",
   "metadata": {},
   "outputs": [],
   "source": [
    "data_4=pd.read_excel(\"PZ_NEW.xlsx\")"
   ]
  },
  {
   "cell_type": "code",
   "execution_count": 7,
   "id": "88195b5f",
   "metadata": {},
   "outputs": [],
   "source": [
    "frames = [data, data_1,data_2,data_3,data_4]\n",
    "\n",
    "data_f = pd.concat(frames)"
   ]
  },
  {
   "cell_type": "code",
   "execution_count": 8,
   "id": "eebdcc66",
   "metadata": {},
   "outputs": [
    {
     "name": "stdout",
     "output_type": "stream",
     "text": [
      "<class 'pandas.core.frame.DataFrame'>\n",
      "Int64Index: 70060 entries, 0 to 14011\n",
      "Columns: 445 entries, Unnamed: 1 to New Column\n",
      "dtypes: float64(444), object(1)\n",
      "memory usage: 238.4+ MB\n"
     ]
    }
   ],
   "source": [
    "data_f.info()"
   ]
  },
  {
   "cell_type": "code",
   "execution_count": 9,
   "id": "603c2bad",
   "metadata": {},
   "outputs": [
    {
     "data": {
      "text/html": [
       "<div>\n",
       "<style scoped>\n",
       "    .dataframe tbody tr th:only-of-type {\n",
       "        vertical-align: middle;\n",
       "    }\n",
       "\n",
       "    .dataframe tbody tr th {\n",
       "        vertical-align: top;\n",
       "    }\n",
       "\n",
       "    .dataframe thead th {\n",
       "        text-align: right;\n",
       "    }\n",
       "</style>\n",
       "<table border=\"1\" class=\"dataframe\">\n",
       "  <thead>\n",
       "    <tr style=\"text-align: right;\">\n",
       "      <th></th>\n",
       "      <th>Unnamed: 1</th>\n",
       "      <th>Unnamed: 2</th>\n",
       "      <th>Unnamed: 3</th>\n",
       "      <th>Unnamed: 4</th>\n",
       "      <th>Unnamed: 5</th>\n",
       "      <th>Unnamed: 6</th>\n",
       "      <th>Unnamed: 7</th>\n",
       "      <th>Unnamed: 8</th>\n",
       "      <th>Unnamed: 9</th>\n",
       "      <th>Unnamed: 10</th>\n",
       "      <th>...</th>\n",
       "      <th>Unnamed: 436</th>\n",
       "      <th>Unnamed: 437</th>\n",
       "      <th>Unnamed: 438</th>\n",
       "      <th>Unnamed: 439</th>\n",
       "      <th>Unnamed: 440</th>\n",
       "      <th>Unnamed: 441</th>\n",
       "      <th>Unnamed: 442</th>\n",
       "      <th>Unnamed: 443</th>\n",
       "      <th>Unnamed: 444</th>\n",
       "      <th>New Column</th>\n",
       "    </tr>\n",
       "  </thead>\n",
       "  <tbody>\n",
       "    <tr>\n",
       "      <th>0</th>\n",
       "      <td>4272.307692</td>\n",
       "      <td>4271.282051</td>\n",
       "      <td>4264.102564</td>\n",
       "      <td>4256.923077</td>\n",
       "      <td>4265.128205</td>\n",
       "      <td>4273.333333</td>\n",
       "      <td>4264.102564</td>\n",
       "      <td>4255.384615</td>\n",
       "      <td>4260.000000</td>\n",
       "      <td>4267.692308</td>\n",
       "      <td>...</td>\n",
       "      <td>4278.199841</td>\n",
       "      <td>4278.199841</td>\n",
       "      <td>4278.199841</td>\n",
       "      <td>4278.199841</td>\n",
       "      <td>4278.199841</td>\n",
       "      <td>4278.199841</td>\n",
       "      <td>4278.199841</td>\n",
       "      <td>4278.199841</td>\n",
       "      <td>4278.199841</td>\n",
       "      <td>n00007846</td>\n",
       "    </tr>\n",
       "    <tr>\n",
       "      <th>1</th>\n",
       "      <td>4234.358974</td>\n",
       "      <td>4228.717949</td>\n",
       "      <td>4207.692308</td>\n",
       "      <td>4205.128205</td>\n",
       "      <td>4232.820513</td>\n",
       "      <td>4252.307692</td>\n",
       "      <td>4237.948718</td>\n",
       "      <td>4224.102564</td>\n",
       "      <td>4236.923077</td>\n",
       "      <td>4253.333333</td>\n",
       "      <td>...</td>\n",
       "      <td>4246.903251</td>\n",
       "      <td>4246.903251</td>\n",
       "      <td>4246.903251</td>\n",
       "      <td>4246.903251</td>\n",
       "      <td>4246.903251</td>\n",
       "      <td>4246.903251</td>\n",
       "      <td>4246.903251</td>\n",
       "      <td>4246.903251</td>\n",
       "      <td>4246.903251</td>\n",
       "      <td>n00007846</td>\n",
       "    </tr>\n",
       "    <tr>\n",
       "      <th>2</th>\n",
       "      <td>4309.230769</td>\n",
       "      <td>4290.769231</td>\n",
       "      <td>4292.820513</td>\n",
       "      <td>4293.846154</td>\n",
       "      <td>4296.410256</td>\n",
       "      <td>4308.205128</td>\n",
       "      <td>4299.487179</td>\n",
       "      <td>4288.717949</td>\n",
       "      <td>4294.871795</td>\n",
       "      <td>4305.128205</td>\n",
       "      <td>...</td>\n",
       "      <td>4294.950588</td>\n",
       "      <td>4294.950588</td>\n",
       "      <td>4294.950588</td>\n",
       "      <td>4294.950588</td>\n",
       "      <td>4294.950588</td>\n",
       "      <td>4294.950588</td>\n",
       "      <td>4294.950588</td>\n",
       "      <td>4294.950588</td>\n",
       "      <td>4294.950588</td>\n",
       "      <td>n00007846</td>\n",
       "    </tr>\n",
       "    <tr>\n",
       "      <th>3</th>\n",
       "      <td>4376.923077</td>\n",
       "      <td>4378.974359</td>\n",
       "      <td>4377.948718</td>\n",
       "      <td>4370.256410</td>\n",
       "      <td>4364.102564</td>\n",
       "      <td>4359.487179</td>\n",
       "      <td>4356.410256</td>\n",
       "      <td>4359.487179</td>\n",
       "      <td>4356.410256</td>\n",
       "      <td>4350.256410</td>\n",
       "      <td>...</td>\n",
       "      <td>4323.951890</td>\n",
       "      <td>4323.951890</td>\n",
       "      <td>4323.951890</td>\n",
       "      <td>4323.951890</td>\n",
       "      <td>4323.951890</td>\n",
       "      <td>4323.951890</td>\n",
       "      <td>4323.951890</td>\n",
       "      <td>4323.951890</td>\n",
       "      <td>4323.951890</td>\n",
       "      <td>n00007846</td>\n",
       "    </tr>\n",
       "    <tr>\n",
       "      <th>4</th>\n",
       "      <td>4250.769231</td>\n",
       "      <td>4257.435897</td>\n",
       "      <td>4254.871795</td>\n",
       "      <td>4272.307692</td>\n",
       "      <td>4259.487179</td>\n",
       "      <td>4224.102564</td>\n",
       "      <td>4236.410256</td>\n",
       "      <td>4242.564103</td>\n",
       "      <td>4208.717949</td>\n",
       "      <td>4211.282051</td>\n",
       "      <td>...</td>\n",
       "      <td>4266.225962</td>\n",
       "      <td>4266.225962</td>\n",
       "      <td>4266.225962</td>\n",
       "      <td>4266.225962</td>\n",
       "      <td>4266.225962</td>\n",
       "      <td>4266.225962</td>\n",
       "      <td>4266.225962</td>\n",
       "      <td>4266.225962</td>\n",
       "      <td>4266.225962</td>\n",
       "      <td>n00007846</td>\n",
       "    </tr>\n",
       "  </tbody>\n",
       "</table>\n",
       "<p>5 rows × 445 columns</p>\n",
       "</div>"
      ],
      "text/plain": [
       "    Unnamed: 1   Unnamed: 2   Unnamed: 3   Unnamed: 4   Unnamed: 5  \\\n",
       "0  4272.307692  4271.282051  4264.102564  4256.923077  4265.128205   \n",
       "1  4234.358974  4228.717949  4207.692308  4205.128205  4232.820513   \n",
       "2  4309.230769  4290.769231  4292.820513  4293.846154  4296.410256   \n",
       "3  4376.923077  4378.974359  4377.948718  4370.256410  4364.102564   \n",
       "4  4250.769231  4257.435897  4254.871795  4272.307692  4259.487179   \n",
       "\n",
       "    Unnamed: 6   Unnamed: 7   Unnamed: 8   Unnamed: 9  Unnamed: 10  ...  \\\n",
       "0  4273.333333  4264.102564  4255.384615  4260.000000  4267.692308  ...   \n",
       "1  4252.307692  4237.948718  4224.102564  4236.923077  4253.333333  ...   \n",
       "2  4308.205128  4299.487179  4288.717949  4294.871795  4305.128205  ...   \n",
       "3  4359.487179  4356.410256  4359.487179  4356.410256  4350.256410  ...   \n",
       "4  4224.102564  4236.410256  4242.564103  4208.717949  4211.282051  ...   \n",
       "\n",
       "   Unnamed: 436  Unnamed: 437  Unnamed: 438  Unnamed: 439  Unnamed: 440  \\\n",
       "0   4278.199841   4278.199841   4278.199841   4278.199841   4278.199841   \n",
       "1   4246.903251   4246.903251   4246.903251   4246.903251   4246.903251   \n",
       "2   4294.950588   4294.950588   4294.950588   4294.950588   4294.950588   \n",
       "3   4323.951890   4323.951890   4323.951890   4323.951890   4323.951890   \n",
       "4   4266.225962   4266.225962   4266.225962   4266.225962   4266.225962   \n",
       "\n",
       "   Unnamed: 441  Unnamed: 442  Unnamed: 443  Unnamed: 444  New Column  \n",
       "0   4278.199841   4278.199841   4278.199841   4278.199841   n00007846  \n",
       "1   4246.903251   4246.903251   4246.903251   4246.903251   n00007846  \n",
       "2   4294.950588   4294.950588   4294.950588   4294.950588   n00007846  \n",
       "3   4323.951890   4323.951890   4323.951890   4323.951890   n00007846  \n",
       "4   4266.225962   4266.225962   4266.225962   4266.225962   n00007846  \n",
       "\n",
       "[5 rows x 445 columns]"
      ]
     },
     "execution_count": 9,
     "metadata": {},
     "output_type": "execute_result"
    }
   ],
   "source": [
    "data.head()"
   ]
  },
  {
   "cell_type": "code",
   "execution_count": 10,
   "id": "1aba7eb5",
   "metadata": {},
   "outputs": [],
   "source": [
    "from sklearn.preprocessing import StandardScaler\n",
    "from sklearn.preprocessing import LabelBinarizer\n",
    "from sklearn.model_selection import train_test_split\n",
    "\n",
    "\n",
    "X=np.asarray(data_f.values)\n",
    "X=np.asarray(X[:,:-1])\n",
    "X=X.astype(float)\n",
    "\n",
    "dt=np.asarray(data_f.values)\n",
    "Y=np.asarray(dt[: , -1]) #not working for string type label"
   ]
  },
  {
   "cell_type": "code",
   "execution_count": 11,
   "id": "212f26a1",
   "metadata": {},
   "outputs": [],
   "source": [
    "scaler = StandardScaler()\n",
    "scaler.fit(X)\n",
    "X = scaler.transform(X)"
   ]
  },
  {
   "cell_type": "code",
   "execution_count": 12,
   "id": "5e7cf397",
   "metadata": {},
   "outputs": [],
   "source": [
    "X_train, X_test, y_train, y_test = train_test_split(X, Y, test_size=0.20, random_state=1)"
   ]
  },
  {
   "cell_type": "code",
   "execution_count": null,
   "id": "5a5596ec",
   "metadata": {},
   "outputs": [],
   "source": []
  },
  {
   "cell_type": "code",
   "execution_count": 13,
   "id": "20aff161",
   "metadata": {},
   "outputs": [],
   "source": [
    "from sklearn.preprocessing import LabelEncoder\n",
    "\n",
    "# creating instance of labelencoder\n",
    "le = LabelEncoder()\n",
    "le.fit(y_train)\n",
    "Y_train = le.transform(y_train)\n",
    "Y_test = le.transform(y_test)"
   ]
  },
  {
   "cell_type": "code",
   "execution_count": 14,
   "id": "027baff9",
   "metadata": {},
   "outputs": [
    {
     "data": {
      "text/plain": [
       "((56048,), (14012,))"
      ]
     },
     "execution_count": 14,
     "metadata": {},
     "output_type": "execute_result"
    }
   ],
   "source": [
    "Y_train.shape,Y_test.shape"
   ]
  },
  {
   "cell_type": "code",
   "execution_count": 15,
   "id": "11f07c47",
   "metadata": {},
   "outputs": [
    {
     "name": "stdout",
     "output_type": "stream",
     "text": [
      "(70060, 444, 1)\n"
     ]
    }
   ],
   "source": [
    "#Electrodes dataset\n",
    "#X=X.reshape(14012, 444,1)\n",
    "X=X.reshape(70060, 444,1)\n",
    "\n",
    "print(X.shape)"
   ]
  },
  {
   "cell_type": "code",
   "execution_count": 16,
   "id": "b7172e7b",
   "metadata": {},
   "outputs": [
    {
     "data": {
      "text/plain": [
       "((56048, 444), (56048,), (14012, 444), (14012,))"
      ]
     },
     "execution_count": 16,
     "metadata": {},
     "output_type": "execute_result"
    }
   ],
   "source": [
    "X_train.shape,Y_train.shape,X_test.shape,Y_test.shape"
   ]
  },
  {
   "cell_type": "code",
   "execution_count": 17,
   "id": "2f304646",
   "metadata": {},
   "outputs": [
    {
     "name": "stdout",
     "output_type": "stream",
     "text": [
      "Model: \"sequential\"\n",
      "_________________________________________________________________\n",
      " Layer (type)                Output Shape              Param #   \n",
      "=================================================================\n",
      " conv1d (Conv1D)             (None, 443, 128)          384       \n",
      "                                                                 \n",
      " conv1d_1 (Conv1D)           (None, 442, 128)          32896     \n",
      "                                                                 \n",
      " max_pooling1d (MaxPooling1  (None, 221, 128)          0         \n",
      " D)                                                              \n",
      "                                                                 \n",
      " dropout (Dropout)           (None, 221, 128)          0         \n",
      "                                                                 \n",
      " flatten (Flatten)           (None, 28288)             0         \n",
      "                                                                 \n",
      " dense (Dense)               (None, 1000)              28289000  \n",
      "                                                                 \n",
      " dense_1 (Dense)             (None, 1000)              1001000   \n",
      "                                                                 \n",
      " dropout_1 (Dropout)         (None, 1000)              0         \n",
      "                                                                 \n",
      " dense_2 (Dense)             (None, 569)               569569    \n",
      "                                                                 \n",
      " dropout_2 (Dropout)         (None, 569)               0         \n",
      "                                                                 \n",
      "=================================================================\n",
      "Total params: 29892849 (114.03 MB)\n",
      "Trainable params: 29892849 (114.03 MB)\n",
      "Non-trainable params: 0 (0.00 Byte)\n",
      "_________________________________________________________________\n",
      "Epoch 1/10\n",
      "561/561 [==============================] - 257s 457ms/step - loss: 8.1012 - accuracy: 0.0028 - val_loss: 6.3243 - val_accuracy: 0.0031\n",
      "Epoch 2/10\n",
      "561/561 [==============================] - 259s 462ms/step - loss: 8.0761 - accuracy: 0.0051 - val_loss: 6.2317 - val_accuracy: 0.0121\n",
      "Epoch 3/10\n",
      "561/561 [==============================] - 257s 459ms/step - loss: 7.5276 - accuracy: 0.0749 - val_loss: 5.1038 - val_accuracy: 0.1761\n",
      "Epoch 4/10\n",
      "561/561 [==============================] - 256s 457ms/step - loss: 5.9206 - accuracy: 0.2864 - val_loss: 3.8775 - val_accuracy: 0.3994\n",
      "Epoch 5/10\n",
      "561/561 [==============================] - 257s 458ms/step - loss: 4.5034 - accuracy: 0.4586 - val_loss: 3.1791 - val_accuracy: 0.5532\n",
      "Epoch 6/10\n",
      "561/561 [==============================] - 253s 452ms/step - loss: 3.6503 - accuracy: 0.5607 - val_loss: 2.8453 - val_accuracy: 0.6472\n",
      "Epoch 7/10\n",
      "561/561 [==============================] - 252s 450ms/step - loss: 3.1286 - accuracy: 0.6222 - val_loss: 2.5833 - val_accuracy: 0.7087\n",
      "Epoch 8/10\n",
      "561/561 [==============================] - 253s 452ms/step - loss: 2.7221 - accuracy: 0.6693 - val_loss: 2.5316 - val_accuracy: 0.7457\n",
      "Epoch 9/10\n",
      "561/561 [==============================] - 254s 452ms/step - loss: 2.4570 - accuracy: 0.6973 - val_loss: 2.3926 - val_accuracy: 0.7823\n",
      "Epoch 10/10\n",
      "561/561 [==============================] - 255s 454ms/step - loss: 2.2858 - accuracy: 0.7151 - val_loss: 2.3395 - val_accuracy: 0.8022\n",
      "accuracy: 80.22%\n"
     ]
    }
   ],
   "source": [
    "# ONLY 2 LAYERS........\n",
    "from sklearn.metrics import classification_report\n",
    "from sklearn.metrics import precision_recall_fscore_support\n",
    "import tensorflow as tf\n",
    "import numpy as np\n",
    "from keras.models import Sequential\n",
    "#from keras.utils import np_utils\n",
    "from keras.layers import Dense, Activation,Conv1D,MaxPooling1D, Dropout, Flatten,GlobalAveragePooling1D\n",
    "import pandas as pd\n",
    "\n",
    "import matplotlib.pyplot as plt\n",
    "\n",
    "model = Sequential()\n",
    "\n",
    "#model.add(Conv1D(filters=32, kernel_size=3, activation='relu', input_shape=(178,1)))  # data EEG\n",
    "model.add(Conv1D(filters=128, kernel_size=2, activation='relu', input_shape=(444,1)))   # haus dataset\n",
    "#model.add(Conv1D(filters=32, kernel_size=3, activation='relu', input_shape=(11209, 444)))\n",
    "model.add(Conv1D(filters=128, kernel_size=2, activation='relu'))\n",
    "model.add(MaxPooling1D(pool_size=2))\n",
    "model.add(Dropout(0.1))\n",
    "\n",
    "model.add(Flatten())\n",
    "#model.add(GlobalAveragePooling1D())\n",
    "\n",
    "#model.add(Dense(1000, activation='relu'))\n",
    "model.add(Dense(1000, activation='relu'))\n",
    "model.add(Dense(1000, activation='relu'))\n",
    "model.add(Dropout(0.2))\n",
    "model.add(Dense(569, activation='softmax'))\n",
    "model.add(Dropout(0.2))\n",
    "#model.add(Dense(569, activation='sigmoid'))\n",
    "#model.add(Dense(2, activation='softmax'))# caterogorical_crossentropy\n",
    "#model.add(Dense(569, activation='sigmoid'))  # binary_crossentropy\n",
    "model.compile(loss='categorical_crossentropy', optimizer='adam', metrics=['accuracy'])\n",
    "model.summary()\n",
    "\n",
    "#model.compile(optimizer='adam',loss='binary_crossentropy',metrics=['accuracy'])\n",
    "model.compile(optimizer='adam',loss=tf.keras.losses.SparseCategoricalCrossentropy(),metrics=['accuracy'])\n",
    "#model.compile(optimizer='adam',loss=tf.keras.losses.CategoricalCrossentropy(),metrics=['accuracy'])\n",
    "\n",
    "history=model.fit(X_train,Y_train,100,10,verbose=1,shuffle=True,validation_data=(X_test,Y_test))\n",
    "\n",
    "\n",
    "scores = model.evaluate(X_test, Y_test, verbose=0, batch_size=200)\n",
    "pred=model.predict(X_test, verbose=0, batch_size=200)\n",
    "pred=np.round(pred)\n",
    "#print(classification_report(Y_test, pred))\n",
    "#f1=precision_recall_fscore_support(Y_test, pred, average='micro')\n",
    "\n",
    "print(\"%s: %.2f%%\" % (model.metrics_names[1], scores[1]*100))"
   ]
  },
  {
   "cell_type": "code",
   "execution_count": 18,
   "id": "771e34f8",
   "metadata": {},
   "outputs": [
    {
     "data": {
      "image/png": "[encoded data removed]",
      "text/plain": [
       "<Figure size 432x288 with 1 Axes>"
      ]
     },
     "metadata": {
      "needs_background": "light"
     },
     "output_type": "display_data"
    },
    {
     "data": {
      "image/png": "[encoded data removed]",
      "text/plain": [
       "<Figure size 432x288 with 1 Axes>"
      ]
     },
     "metadata": {
      "needs_background": "light"
     },
     "output_type": "display_data"
    }
   ],
   "source": [
    "from sklearn.metrics import classification_report, confusion_matrix, accuracy_score\n",
    "#from plot_conf_matr import plot_confusion_matrix\n",
    "\n",
    "acc = history.history['accuracy']\n",
    "val_acc = history.history['val_accuracy']\n",
    "loss = history.history['loss']\n",
    "val_loss = history.history['val_loss']\n",
    "epochs = range(1,len(acc)+1)\n",
    "plt.figure()\n",
    "plt.plot(epochs, acc, 'b', label = 'Training accuracy')\n",
    "plt.plot(epochs, val_acc, 'r', label='Testing accuracy')\n",
    "plt.title('Training and testing accuracy')\n",
    "plt.legend()\n",
    "plt.savefig('Accuracy.jpg')\n",
    "plt.figure()\n",
    "plt.plot(epochs, loss, 'b', label = 'Training loss')\n",
    "plt.plot(epochs, val_loss, 'r', label='Testing loss')\n",
    "plt.title('Training and testing loss')\n",
    "plt.legend()\n",
    "plt.savefig('Loss.jpg')"
   ]
  },
  {
   "cell_type": "code",
   "execution_count": null,
   "id": "174fb61b",
   "metadata": {},
   "outputs": [],
   "source": []
  },
  {
   "cell_type": "code",
   "execution_count": null,
   "id": "13faea52",
   "metadata": {},
   "outputs": [],
   "source": []
  }
 ],
 "metadata": {
  "kernelspec": {
   "display_name": "Python 3",
   "language": "python",
   "name": "python3"
  },
  "language_info": {
   "codemirror_mode": {
    "name": "ipython",
    "version": 3
   },
   "file_extension": ".py",
   "mimetype": "text/x-python",
   "name": "python",
   "nbconvert_exporter": "python",
   "pygments_lexer": "ipython3",
   "version": "3.8.8"
  }
 },
 "nbformat": 4,
 "nbformat_minor": 5
}
